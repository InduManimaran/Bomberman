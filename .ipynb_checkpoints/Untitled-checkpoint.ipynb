{
 "cells": [
  {
   "cell_type": "code",
   "execution_count": 1,
   "metadata": {
    "collapsed": true
   },
   "outputs": [],
   "source": [
    "lis=[(1,2),(3,4),(5,6)]"
   ]
  },
  {
   "cell_type": "code",
   "execution_count": 3,
   "metadata": {},
   "outputs": [],
   "source": [
    "if (1,8) in lis:\n"
   ]
  },
  {
   "cell_type": "code",
   "execution_count": 4,
   "metadata": {
    "collapsed": true
   },
   "outputs": [],
   "source": [
    "x=(1,2)"
   ]
  },
  {
   "cell_type": "code",
   "execution_count": 5,
   "metadata": {},
   "outputs": [
    {
     "data": {
      "text/plain": [
       "1"
      ]
     },
     "execution_count": 5,
     "metadata": {},
     "output_type": "execute_result"
    }
   ],
   "source": [
    "x[0]"
   ]
  },
  {
   "cell_type": "code",
   "execution_count": 6,
   "metadata": {},
   "outputs": [
    {
     "data": {
      "text/plain": [
       "2"
      ]
     },
     "execution_count": 6,
     "metadata": {},
     "output_type": "execute_result"
    }
   ],
   "source": [
    "x[1]"
   ]
  },
  {
   "cell_type": "code",
   "execution_count": 21,
   "metadata": {},
   "outputs": [],
   "source": [
    "import numpy as np\n",
    "maze = np.array([\n",
    "    [ 1.,  0.,  1.,  1.,  1.,  1.,  1.,  0.5, 0.5,  0.5],\n",
    "    [ 1.,  1.,  1,  1.,  1.,  0.,  1.,  1.,  0.5,  0.5],\n",
    "    [ 1.,  1.,  1.,  1.,  1.,  0.,  1.,  1.,  1.,  1.],\n",
    "    [ 0.,  0.,  1.,  0.,  0.,  1.,  0.,  1.,  1.,  1.],\n",
    "    [ 1.,  1.,  0.,  1.,  0.,  1.,  0.,  0.,  0.,  1.],\n",
    "    [ 1.,  1.,  0.,  1.,  0.,  1.,  1.,  1.,  1.,  1.],\n",
    "    [ 1.,  1.,  1.,  1.,  1.,  1.,  1.,  1.,  1.,  1.],\n",
    "    [ 1.,  1.,  1.,  1.,  1.,  1.,  0.,  0.,  0.,  0.],\n",
    "    [ 1.,  0.,  0.,  0.,  0.,  0.,  1.,  1.,  0.,  1.],\n",
    "    [ 1,  1.,  1.,  1.,  1.,  1.,  1.,  0.,  1.,  1.]\n",
    "])\n",
    "\n",
    "row = 0\n",
    "col=6\n",
    "\n",
    "possible_locs= [(row-1,col),(row+1,col),(row,col-1),(row,col+1)]\n"
   ]
  },
  {
   "cell_type": "code",
   "execution_count": 22,
   "metadata": {},
   "outputs": [
    {
     "name": "stdout",
     "output_type": "stream",
     "text": [
      "0.5\n",
      "valid\n",
      "1.0\n",
      "1.0\n",
      "0.5\n",
      "valid\n"
     ]
    }
   ],
   "source": [
    "for x in possible_locs:\n",
    "            try:\n",
    "                print(maze[x[0],x[1]])\n",
    "                if maze[x[0],x[1]]==0.5:\n",
    "                    print('valid')\n",
    "                    maze[x[0],x[1]]=1\n",
    "            except Exception :\n",
    "                pass"
   ]
  },
  {
   "cell_type": "code",
   "execution_count": 23,
   "metadata": {},
   "outputs": [
    {
     "data": {
      "text/plain": [
       "array([[ 1. ,  0. ,  1. ,  1. ,  1. ,  1. ,  1. ,  1. ,  0.5,  0.5],\n",
       "       [ 1. ,  1. ,  1. ,  1. ,  1. ,  0. ,  1. ,  1. ,  1. ,  0.5],\n",
       "       [ 1. ,  1. ,  1. ,  1. ,  1. ,  0. ,  1. ,  1. ,  1. ,  1. ],\n",
       "       [ 0. ,  0. ,  1. ,  0. ,  0. ,  1. ,  0. ,  1. ,  1. ,  1. ],\n",
       "       [ 1. ,  1. ,  0. ,  1. ,  0. ,  1. ,  0. ,  0. ,  0. ,  1. ],\n",
       "       [ 1. ,  1. ,  0. ,  1. ,  0. ,  1. ,  1. ,  1. ,  1. ,  1. ],\n",
       "       [ 1. ,  1. ,  1. ,  1. ,  1. ,  1. ,  1. ,  1. ,  1. ,  1. ],\n",
       "       [ 1. ,  1. ,  1. ,  1. ,  1. ,  1. ,  0. ,  0. ,  0. ,  0. ],\n",
       "       [ 1. ,  0. ,  0. ,  0. ,  0. ,  0. ,  1. ,  1. ,  0. ,  1. ],\n",
       "       [ 1. ,  1. ,  1. ,  1. ,  1. ,  1. ,  1. ,  0. ,  1. ,  1. ]])"
      ]
     },
     "execution_count": 23,
     "metadata": {},
     "output_type": "execute_result"
    }
   ],
   "source": [
    "maze"
   ]
  },
  {
   "cell_type": "code",
   "execution_count": null,
   "metadata": {
    "collapsed": true
   },
   "outputs": [],
   "source": []
  }
 ],
 "metadata": {
  "kernelspec": {
   "display_name": "Python 3",
   "language": "python",
   "name": "python3"
  },
  "language_info": {
   "codemirror_mode": {
    "name": "ipython",
    "version": 3
   },
   "file_extension": ".py",
   "mimetype": "text/x-python",
   "name": "python",
   "nbconvert_exporter": "python",
   "pygments_lexer": "ipython3",
   "version": "3.6.1"
  }
 },
 "nbformat": 4,
 "nbformat_minor": 2
}
